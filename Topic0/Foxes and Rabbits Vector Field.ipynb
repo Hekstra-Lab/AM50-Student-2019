{
 "cells": [
  {
   "cell_type": "markdown",
   "metadata": {},
   "source": [
    "# Foxes and Rabbits vector field\n",
    "Here I plot the vector field of the Foxes and Rabbits differential equation from the modelling activity in class with:\n",
    "$$\\frac{dR}{dt} = 5R-\\frac{1}{2}RF$$\n",
    "$$\\frac{dF}{dt} = \\frac{RF}{10}-F$$\n",
    "I based this code on this matplotlib example:  \n",
    "https://matplotlib.org/examples/pylab_examples/quiver_demo.html\n",
    "\n",
    "\n",
    "If you don't entirely understand how [meshgrid](https://docs.scipy.org/doc/numpy-1.15.0/reference/generated/numpy.meshgrid.html) works don't worry its somewhat opaque. The important takeaway there is that this is the way to use it and to copy code from the documentation examples."
   ]
  },
  {
   "cell_type": "code",
   "execution_count": null,
   "metadata": {},
   "outputs": [],
   "source": [
    "%matplotlib inline\n",
    "import matplotlib.pyplot as plt\n",
    "import numpy as np\n",
    "from matplotlib import rc\n",
    "rc(\"font\", family = \"serif\",size=16)\n",
    "rc(\"figure\",figsize=(9,9))\n",
    "rc(\"figure\",facecolor=\"white\")\n",
    "%config InlineBackend.figure_format = 'retina'\n"
   ]
  },
  {
   "cell_type": "code",
   "execution_count": null,
   "metadata": {},
   "outputs": [],
   "source": [
    "n_steps = 35\n",
    "r = np.linspace(0,20,n_steps)\n",
    "f = np.linspace(0,20,n_steps)\n",
    "R,F = np.meshgrid(r,f)\n",
    "\n",
    "#define equations\n",
    "dRdt = 5 *R - .5*R*F\n",
    "dFdt = .1*R*F-F\n",
    "\n",
    "#make quiver plot\n",
    "plt.quiver(R[::3, ::3], F[::3, ::3], dRdt[::3, ::3], dFdt[::3, ::3],\n",
    "               pivot='mid', units='xy')\n",
    "\n",
    "plt.xlabel('Rabbits')\n",
    "plt.ylabel('Foxes')\n",
    "plt.show()"
   ]
  },
  {
   "cell_type": "code",
   "execution_count": null,
   "metadata": {},
   "outputs": [],
   "source": []
  }
 ],
 "metadata": {
  "kernelspec": {
   "display_name": "Python 3",
   "language": "python",
   "name": "python3"
  },
  "language_info": {
   "codemirror_mode": {
    "name": "ipython",
    "version": 3
   },
   "file_extension": ".py",
   "mimetype": "text/x-python",
   "name": "python",
   "nbconvert_exporter": "python",
   "pygments_lexer": "ipython3",
   "version": "3.6.3"
  }
 },
 "nbformat": 4,
 "nbformat_minor": 2
}
