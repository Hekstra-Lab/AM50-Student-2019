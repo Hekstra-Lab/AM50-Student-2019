{
 "cells": [
  {
   "cell_type": "markdown",
   "metadata": {},
   "source": [
    "# AM50 Lab 1"
   ]
  },
  {
   "cell_type": "markdown",
   "metadata": {},
   "source": [
    "**Name:**\n",
    "\n",
    "**Email:** "
   ]
  },
  {
   "cell_type": "code",
   "execution_count": null,
   "metadata": {},
   "outputs": [],
   "source": [
    "import numpy as np\n",
    "import matplotlib.pyplot as plt\n",
    "from matplotlib import rc\n",
    "rc(\"text\", usetex=True)\n",
    "rc(\"font\", family = \"serif\")\n",
    "rc(\"figure\",figsize=(9,6))\n",
    "rc(\"figure\",facecolor=\"white\")\n",
    "%config InlineBackend.figure_format = 'retina'"
   ]
  },
  {
   "cell_type": "markdown",
   "metadata": {},
   "source": [
    "Run this cell for latex shortcuts\n",
    "$\\newcommand{\\dd}[2]{\\dfrac{d #1}{d #2}}\n",
    "\\newcommand{\\ddd}[2]{\\dfrac{d^2 #1}{d #2^2}}\n",
    "\\newcommand{\\pd}[2]{\\dfrac{\\partial #1}{\\partial #2}}\n",
    "\\newcommand{\\pdd}[2]{\\dfrac{\\partial^2 #1}{\\partial #2^2}}\n",
    "\\newcommand{\\mdd}[3]{\\dfrac{\\partial^2 #1}{\\partial #2 \\partial #3}}\n",
    "\\newcommand{\\grad}{\\nabla}\n",
    "\\newcommand{\\w}{\\omega}\n",
    "\\newcommand{\\al}{\\alpha}\n",
    "\\newcommand{\\be}{\\beta}\n",
    "\\newcommand{\\la}{\\lambda}\n",
    "\\newcommand{\\e}{\\varepsilon}$"
   ]
  },
  {
   "cell_type": "markdown",
   "metadata": {},
   "source": [
    "# Introduction\n",
    "\n",
    "Today’s lab has three aims:\n",
    "2. To run simulations of the SIR (Susceptible-Infected-Recovered) model introduced in class, and explore aspects of this model.  \n",
    "3. To download Google Flu data and compare it to the predictions of the SIR model.  \n",
    "4. To consider a variation of the SIR model for diseases that do not confer long-term immunity, such as the common cold.  \n",
    "\n",
    "## Exercise 1\n",
    "\n",
    "### Part a.\n",
    "\n",
    "Solve the differential equation \n",
    "$$\\frac{dy}{dt} = \\cos(t)$$  \n",
    "subject to the intial conditions $y(0) = 2$."
   ]
  },
  {
   "cell_type": "markdown",
   "metadata": {},
   "source": [
    "Exercise 1 answer here"
   ]
  },
  {
   "cell_type": "markdown",
   "metadata": {},
   "source": [
    "### Part b.\n",
    "\n",
    "Now that you’ve found the analytical solution, let’s compare it to the solution obtained\n",
    "using [scipy's ode solver](https://docs.scipy.org/doc/scipy/reference/generated/scipy.integrate.solve_ivp.html). First, define the differential equation in the cell below. Then solve it numerically.\n",
    "\n",
    "To use the ode solver you will need to define a python function that returns the value of the derivative for a given value of y and t. Here is a quick explanation of python functions:\n",
    "https://jakevdp.github.io/WhirlwindTourOfPython/08-defining-functions.html#Defining-Functions\n",
    "\n",
    "The important point is that variables defined inside the function exist only there and can't be referenced elsewhere in your code. Instead you need to use the ```return``` command to give the values you calculate back to the rest of your code. \n",
    "\n",
    "We also recommend that you use numpy commands for doing the math, generally the math commands are fairly self explanatory (e.g. np.sin(x) for sin(x)) but if you're confused you should google: \"numpy command for [ whatever math term you want]\"\n",
    "\n",
    "In the below cell is an example function and how to save its output to a new variable.\n",
    "\n"
   ]
  },
  {
   "cell_type": "code",
   "execution_count": null,
   "metadata": {},
   "outputs": [],
   "source": [
    "# Example Function\n",
    "def example_fxn(x):\n",
    "    \"\"\"\n",
    "    This is a docstring, the thing that shows up if you hit shift+tab inside of a functions parantheses.\n",
    "    This isn't necessary but it's often very helpful to describe what the function does.\n",
    "    \n",
    "    inputs\n",
    "    ------\n",
    "    x : any number or numpy array of numbers\n",
    "    \n",
    "    returns\n",
    "    -------\n",
    "    number : the result of x^2 + arctan(x)\n",
    "        \n",
    "    \"\"\"\n",
    "    \n",
    "    val = x**2\n",
    "    val += np.arctan(x)\n",
    "    \n",
    "    return val\n",
    "\n",
    "val1 = example_fxn(5)\n",
    "\n",
    "input2 = np.linspace(1,5,4)\n",
    "val2 = example_fxn(input2)\n",
    "\n",
    "print(val1)\n",
    "\n",
    "print('\\n------\\n')\n",
    "\n",
    "print('input2:\\t'+str(input2))\n",
    "print('val2:\\t'+str(val2))\n"
   ]
  },
  {
   "cell_type": "markdown",
   "metadata": {},
   "source": [
    "Now fill in your code below."
   ]
  },
  {
   "cell_type": "code",
   "execution_count": null,
   "metadata": {},
   "outputs": [],
   "source": [
    "def dydt(t, y):\n",
    "    #Needs to take arguments t and y in that order to be compatible with ode solver\n",
    "    pass"
   ]
  },
  {
   "cell_type": "code",
   "execution_count": null,
   "metadata": {},
   "outputs": [],
   "source": [
    "# Initial value of y as defined by the initial condition.\n",
    "y0 = [2] # y0 needs to be a list because the solver generalizes to a system of many equations.\n",
    "\n",
    "# define the t_span as a tuple\n",
    "t0 = 0\n",
    "tf = 2*np.pi\n",
    "t_span = (t0, tf)\n",
    "\n",
    "# define the points where we want the function to be evaluated\n",
    "t_eval = np.linspace(t0,tf,100)\n",
    "\n",
    "# run solver\n",
    "from scipy.integrate import solve_ivp\n",
    "#soln = solve_ivp(...)\n",
    "solve_ivp()"
   ]
  },
  {
   "cell_type": "markdown",
   "metadata": {},
   "source": [
    "### Part c.\n",
    "\n",
    "Make a plot comparing the analytical solution to numerical solution. Qualitatively, how well do they agree? Make a another plot showing the *residual*:\n",
    "\n",
    "$$ r(t) = |y(t) - \\tilde y(t)|^2$$\n",
    "\n",
    "where $y(t)$ is the analytical solution and $\\tilde y(t)$ is the numerical approximation.\n",
    "\n",
    "\n",
    "Be careful with the shapes of the arrays you are plotting.   \n",
    "\n",
    "\n",
    "```\n",
    "soln.t.shape = (100,)     \n",
    "\n",
    "soln.y.shape = (1,100)\n",
    "```\n",
    "so  `plt.plot(soln.t,soln.y)` you will return an error. Try this and then try to fix it!"
   ]
  },
  {
   "cell_type": "code",
   "execution_count": null,
   "metadata": {},
   "outputs": [],
   "source": [
    "# plot the solution"
   ]
  },
  {
   "cell_type": "code",
   "execution_count": null,
   "metadata": {},
   "outputs": [],
   "source": [
    "#plot the residual"
   ]
  },
  {
   "cell_type": "markdown",
   "metadata": {},
   "source": [
    "## Exercise 2\n",
    "\n",
    "### Part a.\n",
    "Solve the following differential equation by hand:\n",
    "\n",
    "$$ \\dd{y}{t} = y$$\n",
    "\n",
    "subject to the initial condition $y(0)=2$."
   ]
  },
  {
   "cell_type": "markdown",
   "metadata": {},
   "source": [
    "Solution goes here"
   ]
  },
  {
   "cell_type": "markdown",
   "metadata": {},
   "source": [
    "### Part b.\n",
    "\n",
    "Now solve the equation numerically as above and make the same two plots."
   ]
  },
  {
   "cell_type": "code",
   "execution_count": null,
   "metadata": {},
   "outputs": [],
   "source": [
    "#plot the solutions"
   ]
  },
  {
   "cell_type": "code",
   "execution_count": null,
   "metadata": {},
   "outputs": [],
   "source": [
    "#plot the residuals"
   ]
  },
  {
   "cell_type": "markdown",
   "metadata": {},
   "source": [
    "[adjoint method](https://cs.stanford.edu/~ambrad/adjoint_tutorial.pdf)"
   ]
  },
  {
   "cell_type": "markdown",
   "metadata": {},
   "source": [
    "## Exercise 3: Solving the SIR Model\n",
    "\n",
    "In the SIR model we discussed last week in class, there are three populations with $S(t)$ susceptible individuals, $I(t)$ infected individuals, and $R(t)$ recovered individuals. The dynamics are given by the system of ordinary differential equations\n",
    "\n",
    "$$ \\dd{S}{t} = -\\be SI$$\n",
    "\n",
    "$$ \\dd{I}{t} = \\be SI - \\gamma I$$\n",
    "\n",
    "$$ \\dd{R}{t} = \\gamma I$$\n",
    "\n",
    "where $\\be$ is the constant rate at which susceptible people become infected and $\\gamma$ is the constant rate at which infected people recover.\n",
    "\n",
    "### Part a. \n",
    "\n",
    "Now solve this system of equations as above. We define the initial conditions for you below. Hint: you will need to define a vector $y(t) = [S(t), I(t), R(t)]$ and the derivative function you define will need to return $\\dd{y}{t} = \\left[ \\dd{S}{t}, \\dd{I}{t}, \\dd{R}{t}\\right].$"
   ]
  },
  {
   "cell_type": "code",
   "execution_count": null,
   "metadata": {},
   "outputs": [],
   "source": [
    "#initial conditions, time values, and parameters\n",
    "N = 100. #total number of people\n",
    "beta = 1./N #rate at which people get sick per hour\n",
    "gamma = 1./(24*14) #rate at which people recover per hour: here we use two week recovery time\n",
    "S0 = 80.\n",
    "I0 = 20.\n",
    "R0 = 0.\n",
    "y0 = [S0, I0, R0]"
   ]
  },
  {
   "cell_type": "code",
   "execution_count": null,
   "metadata": {},
   "outputs": [],
   "source": [
    "#define the derivative"
   ]
  },
  {
   "cell_type": "code",
   "execution_count": null,
   "metadata": {},
   "outputs": [],
   "source": [
    "#Solve the system of ODEs"
   ]
  },
  {
   "cell_type": "markdown",
   "metadata": {},
   "source": [
    "### Part b.\n",
    "\n",
    "Make a plot showing $S(t)$, $I(t)$, and $R(t)$ on the same plot. Make sure to include a legend and to label your axes. "
   ]
  },
  {
   "cell_type": "code",
   "execution_count": null,
   "metadata": {},
   "outputs": [],
   "source": [
    "#Make plots"
   ]
  },
  {
   "cell_type": "markdown",
   "metadata": {},
   "source": [
    "## Exercise 4\n",
    "\n",
    "Unfortunately, some infections do not result in long lasting immunity. In these cases, individuals may be reinfected. The following set of differential equations in a model for such an infection, called the SI model:\n",
    "\n",
    "$$ \\dd{S}{t} = - \\be SI + \\gamma I$$\n",
    "$$\\dd{I}{t} = \\be SI - \\gamma I.$$\n",
    "\n",
    "### Part a.\n",
    "\n",
    "Discuss the similarities and differences between this and the SIR model. Do the modifications make sense? Why or why not?"
   ]
  },
  {
   "cell_type": "markdown",
   "metadata": {},
   "source": [
    "Part a. answer"
   ]
  },
  {
   "cell_type": "markdown",
   "metadata": {},
   "source": [
    "### Part b. \n",
    "\n",
    "For a population that initially has 100 susceptible individuals and 1 infected individual, follow the procedure from exercise 3 to solve this set of equations for two different sets of values of $\\be$ and $\\gamma$. Plot $S(t)$ and $I(t)$ for each case."
   ]
  },
  {
   "cell_type": "code",
   "execution_count": null,
   "metadata": {},
   "outputs": [],
   "source": []
  },
  {
   "cell_type": "markdown",
   "metadata": {},
   "source": [
    "### Part c.\n",
    "\n",
    "You will observe that both the susceptible and infected populations plateau to a constant value. Explain from the equations why this happens, and what determines the steady state values of $S(t)$ and $I(t)$. Hint: what do you know about the derivatives when the system reaches steady state?"
   ]
  },
  {
   "cell_type": "markdown",
   "metadata": {},
   "source": [
    "Part c answer here"
   ]
  },
  {
   "cell_type": "markdown",
   "metadata": {},
   "source": [
    "## Exercise 5\n",
    "\n",
    "\n",
    "Now there is actually a subtely here that makes it not obivous that we can apply the SIR model to this data. The google Flu data reports the number of weekly diagnoses of the flu. So it doesn't directly correspond to $I$ in our model. Rather it gives use the value of the number of newly infected $\\beta*S*I$. So in order to use this data we need to determine a justifiable way to transform this data to something that works with our model.\n",
    "One way of doing this is to choose a value of gamma from the outset\n",
    "\n",
    "Some interesting actual applied math papers using the SIR model with data are:\n",
    "https://www.ncbi.nlm.nih.gov/pmc/articles/PMC5623938/ and http://www.naun.org/main/UPress/ami/2016/a262013-075.pdf"
   ]
  },
  {
   "cell_type": "code",
   "execution_count": null,
   "metadata": {},
   "outputs": [],
   "source": [
    "#This cell loads the google flu dataset\n",
    "gflu = np.loadtxt(\"google_flu.csv\",dtype=np.str, skiprows=19,delimiter=\",\")\n",
    "dates = []\n",
    "usa_data = gflu[:,1].astype(float)\n",
    "usa14 = []\n",
    "for i,d in enumerate(dates):\n",
    "    if d.startswith(\"2014\"):\n",
    "        usa14.append(usa_data[i])\n",
    "usa14 = np.array(usa14)"
   ]
  },
  {
   "cell_type": "code",
   "execution_count": null,
   "metadata": {},
   "outputs": [],
   "source": [
    "plt.plot(usa_data)\n",
    "plt.title(r\"Number of Flu Diagnoses in the United States {} to {}\".format(dates[0],dates[-1]),fontsize=16)\n",
    "plt.xlabel(r\"Weeks Since {}\".format(dates[0]))\n",
    "plt.ylabel(r\"Number of Diagnoses\")\n",
    "plt.show()"
   ]
  },
  {
   "cell_type": "markdown",
   "metadata": {},
   "source": [
    "### Part a.\n",
    "\n",
    "The array `usa14` contains the number of diagnoses in the United states for each week of 2014. Experiment with different values of $\\be$ and $\\gamma$ in the SIR model until you get a numerical solution that resembles the data from the United States. Show a plot of $I(t)$ on the same axes as the data. Are the parameters reasonable given what you know about the flu?"
   ]
  },
  {
   "cell_type": "code",
   "execution_count": null,
   "metadata": {},
   "outputs": [],
   "source": []
  },
  {
   "cell_type": "markdown",
   "metadata": {},
   "source": [
    "### Part b.\n",
    "\n",
    "The real data from many years shown above has dramatically different structure than the solutions to the SIR model we have seen. Why does the SIR model fail to capture this behavior? How might one extend the SIR model to capture this behavior?"
   ]
  },
  {
   "cell_type": "markdown",
   "metadata": {},
   "source": [
    "Part b answer here"
   ]
  }
 ],
 "metadata": {
  "kernelspec": {
   "display_name": "Python 3",
   "language": "python",
   "name": "python3"
  },
  "language_info": {
   "codemirror_mode": {
    "name": "ipython",
    "version": 3
   },
   "file_extension": ".py",
   "mimetype": "text/x-python",
   "name": "python",
   "nbconvert_exporter": "python",
   "pygments_lexer": "ipython3",
   "version": "3.6.3"
  }
 },
 "nbformat": 4,
 "nbformat_minor": 2
}
